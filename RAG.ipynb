{
 "cells": [
  {
   "cell_type": "code",
   "execution_count": null,
   "metadata": {},
   "outputs": [],
   "source": [
    "# Install Requirements\n",
    "!apt-get -qq install poppler-utils tesseract-ocr\n",
    "# Upgrade Pillow to latest version\n",
    "%pip install -q --user --upgrade pillow\n",
    "# Install Python Packages\n",
    "%pip install -q unstructured[\"all-docs\"]==0.12.5\n",
    "# NOTE: you may also upgrade to the latest version with the command below,\n",
    "#       though a more recent version of unstructured will not have been tested with this notebook\n",
    "# %pip install -q --upgrade unstructured"
   ]
  },
  {
   "cell_type": "code",
   "execution_count": null,
   "metadata": {},
   "outputs": [],
   "source": [
    "!mkdir -p example-docs\n",
    "# Install example-10k.html and layout-parser-paper.pdf\n",
    "!wget  https://raw.githubusercontent.com/Unstructured-IO/unstructured/main/example-docs/example-10k.html -P example-docs\n",
    "!wget  https://raw.githubusercontent.com/Unstructured-IO/unstructured/main/example-docs/layout-parser-paper-fast.pdf -P example-docs"
   ]
  },
  {
   "cell_type": "code",
   "execution_count": null,
   "metadata": {},
   "outputs": [],
   "source": [
    "import nltk\n",
    "nltk.download('punkt')\n",
    "nltk.download('averaged_perceptron_tagger')"
   ]
  },
  {
   "cell_type": "code",
   "execution_count": null,
   "metadata": {},
   "outputs": [],
   "source": [
    "from unstructured.documents.html import HTMLDocument\n",
    "\n",
    "doc = HTMLDocument.from_file(\"example-docs/example-10k.html\")\n",
    "\n",
    "# This is how you would use a document from your google Drive\n",
    "\"\"\"\n",
    "from google.colab import drive\n",
    "drive.mount('/content/drive/')\n",
    "doc = HTMLDocument.from_file(\"drive/MyDrive/your-filename.html\")\n",
    "\"\"\""
   ]
  },
  {
   "cell_type": "code",
   "execution_count": null,
   "metadata": {},
   "outputs": [],
   "source": [
    "print(doc.pages[2])"
   ]
  },
  {
   "cell_type": "code",
   "execution_count": null,
   "metadata": {},
   "outputs": [],
   "source": [
    "doc.pages[2].elements"
   ]
  },
  {
   "cell_type": "code",
   "execution_count": null,
   "metadata": {},
   "outputs": [],
   "source": [
    "from unstructured.partition.pdf import partition_pdf\n",
    "\n",
    "elements = partition_pdf(\"example-docs/layout-parser-paper-fast.pdf\")\n",
    "\n",
    "elements_fast = partition_pdf(\"example-docs/layout-parser-paper-fast.pdf\", strategy=\"fast\")"
   ]
  },
  {
   "cell_type": "code",
   "execution_count": null,
   "metadata": {},
   "outputs": [],
   "source": [
    "from collections import Counter\n",
    "\n",
    "display(Counter(type(element) for element in elements))\n",
    "print(\"\")\n",
    "# The composition of elements can be different for elements derived with the \"fast\" strategy\n",
    "display(Counter(type(element) for element in elements_fast))"
   ]
  },
  {
   "cell_type": "code",
   "execution_count": null,
   "metadata": {},
   "outputs": [],
   "source": [
    "display(*[(type(element), element.text) for element in elements[10:13]])"
   ]
  },
  {
   "cell_type": "code",
   "execution_count": null,
   "metadata": {},
   "outputs": [],
   "source": [
    "print(\"\\n\\n\".join([str(el) for el in elements]))"
   ]
  }
 ],
 "metadata": {
  "kernelspec": {
   "display_name": "cloudspace",
   "language": "python",
   "name": "python3"
  },
  "language_info": {
   "name": "python",
   "version": "3.10.10"
  }
 },
 "nbformat": 4,
 "nbformat_minor": 2
}
